{
 "cells": [
  {
   "cell_type": "code",
   "execution_count": 1,
   "id": "84baf360-4b0a-4957-a960-40b37fb7663f",
   "metadata": {},
   "outputs": [],
   "source": [
    "import datetime\n",
    "import time\n",
    "import csv\n",
    "import pandas as pd\n",
    "import re\n",
    "#maybe don't need stuff\n",
    "import numpy as np"
   ]
  },
  {
   "cell_type": "code",
   "execution_count": 2,
   "id": "d8e59c25-6151-4aad-95be-cc716a806718",
   "metadata": {},
   "outputs": [],
   "source": [
    "cache = {}"
   ]
  },
  {
   "cell_type": "markdown",
   "id": "df87620b-a9de-4c93-9e73-fbe02275e7c5",
   "metadata": {},
   "source": [
    "Habits.csv"
   ]
  },
  {
   "cell_type": "code",
   "execution_count": 3,
   "id": "33712267-b774-4ceb-8e20-104c97ab177c",
   "metadata": {},
   "outputs": [],
   "source": [
    "try:\n",
    "    df = pd.read_csv(\"Habits.csv\")\n",
    "except FileNotFoundError:\n",
    "    with open(\"Habits.csv\",\"w\") as HabitFile:\n",
    "        csv_writer = csv.writer(HabitFile, delimiter=',', quotechar='\"', quoting=csv.QUOTE_MINIMAL)\n",
    "        csv_writer.writerow(['HabitName' , 'Time' , 'Before' , 'After'])\n",
    "    HabitFile.close()"
   ]
  },
  {
   "cell_type": "markdown",
   "id": "86894309-9f47-4854-862a-36b91089d835",
   "metadata": {},
   "source": [
    "HabitStats.csv"
   ]
  },
  {
   "cell_type": "code",
   "execution_count": 5,
   "id": "72559978-8b87-4068-82e2-7c4806ba4947",
   "metadata": {},
   "outputs": [],
   "source": [
    "try:\n",
    "    df = pd.read_csv(\"HabitStats.csv\")\n",
    "except FileNotFoundError:\n",
    "    with open(\"HabitStats.csv\",\"w\") as HabitFile:\n",
    "        csv_writer = csv.writer(HabitFile, delimiter=',', quotechar='\"', quoting=csv.QUOTE_MINIMAL)\n",
    "        csv_writer.writerow(['HabitName' , 'Created Date' , 'Edited Date' , 'Total Dids' , 'Total Misses' , 'Streak'])\n",
    "    HabitFile.close()"
   ]
  },
  {
   "cell_type": "markdown",
   "id": "14828ea3-ee58-4273-8145-0c02c149bfbc",
   "metadata": {},
   "source": [
    "HabitLog.csv"
   ]
  },
  {
   "cell_type": "raw",
   "id": "3630fe22-e1d8-4f7b-8dee-aea6e207b213",
   "metadata": {},
   "source": [
    "to be added"
   ]
  },
  {
   "cell_type": "markdown",
   "id": "7c53ad57-9924-4610-bcb3-520674165ef8",
   "metadata": {},
   "source": [
    "Add/Create Habits"
   ]
  },
  {
   "cell_type": "code",
   "execution_count": null,
   "id": "7b0eb579-236f-4b08-a4e3-907b7af62782",
   "metadata": {},
   "outputs": [],
   "source": [
    "def addHabit():\n",
    "    #List of current habits\n",
    "    HabitFile = pd.read_csv(\"Habit.csv\")\n",
    "    Habits = list(x for x in HabitFile[\"HabitName\"])\n",
    "    \n",
    "    #Habit Name\n",
    "    HabitName = input(\"I want to ex: Brush teeth...\").lower()\n",
    "    \n",
    "    #Check if same habit exists\n",
    "    if HabitName in Habits\n",
    "        raise: Exception('Habit Already Exists')\n",
    "    \n",
    "    #Habit details\n",
    "    Time = input(\"at in 24hr format - ex:05:00\")\n",
    "    Before = input(\"before\").lower()\n",
    "    After = input(\"after\").lower()\n",
    "    Create_Date = datetime.datetime.now().strftime(\"%x\")\n",
    "    Edit_Date = datetime.datetime.now().strftime(\"%x\")\n",
    "\n",
    "    #Get them to relevent format\n",
    "    Time = time_conv(Time)\n",
    "\n",
    "    #Temporary Storage\n",
    "    AddHabit = HabitName : {\n",
    "        \"Time\" : Time,\n",
    "        \"Before\": Before,\n",
    "        \"After\" : After,\n",
    "        \"Created Date\" : Create_Date,\n",
    "        \"Edited Date\" : Edit_Date,\n",
    "        \"Did\":0,\n",
    "        \"Total Dids\":0,\n",
    "        \"Total Misses\":0,\n",
    "        \"Streak\":0\n",
    "    }\n",
    "\n",
    "    cache.update(AddHabit)\n",
    "    #AddToFile(HabitName) --- maybe call at a different time i.e after checking confirm or delete -- requires more work"
   ]
  },
  {
   "cell_type": "markdown",
   "id": "c304acfd-fa74-457c-845e-4ba0ceaf5537",
   "metadata": {},
   "source": [
    "Add habit to file"
   ]
  },
  {
   "cell_type": "code",
   "execution_count": 6,
   "id": "6836db74-63ab-4110-849a-5e6dbb21d51b",
   "metadata": {},
   "outputs": [],
   "source": [
    "def AddToFile(HabitName):\n",
    "    try:\n",
    "        NewHabitDet = {\"HabitName\":HabitName , \"Time\": cache[HabitName][\"Time\"] ,\"Before\":cache[HabitName][\"Before\"] , \"After\":cache[HabitName][\"After\"]}\n",
    "        with open(\"Habits.csv\",\"a\",newline='') as HabitsFile:\n",
    "            csv_Dwriter = csv.DictWriter(HabitsFile, fieldnames = ['HabitName' , 'Time' , 'Before' , 'After'])\n",
    "            csv_Dwriter.writerow(NewHabitDet)\n",
    "        HabitsFile.close()\n",
    "    except KeyError:\n",
    "        print(f\"Something went wrong habit -{HabitName}- hasn't been created\")"
   ]
  },
  {
   "cell_type": "code",
   "execution_count": null,
   "id": "24b359c1-f698-4449-9228-1a8827e0780e",
   "metadata": {},
   "outputs": [],
   "source": []
  }
 ],
 "metadata": {
  "kernelspec": {
   "display_name": "Python 3 (ipykernel)",
   "language": "python",
   "name": "python3"
  },
  "language_info": {
   "codemirror_mode": {
    "name": "ipython",
    "version": 3
   },
   "file_extension": ".py",
   "mimetype": "text/x-python",
   "name": "python",
   "nbconvert_exporter": "python",
   "pygments_lexer": "ipython3",
   "version": "3.13.0"
  }
 },
 "nbformat": 4,
 "nbformat_minor": 5
}
