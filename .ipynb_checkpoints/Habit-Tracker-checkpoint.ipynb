{
 "cells": [
  {
   "cell_type": "markdown",
   "id": "b4b4930d-7c95-4d72-9422-43eb50d24dca",
   "metadata": {},
   "source": [
    "## Things I Need Anyways"
   ]
  },
  {
   "cell_type": "markdown",
   "id": "d47d42c3-6921-49f9-9d17-02f7dce47951",
   "metadata": {},
   "source": [
    "Importing things"
   ]
  },
  {
   "cell_type": "code",
   "execution_count": 2,
   "id": "fb66585d-42ed-4c9f-a10c-eb9b6a52e381",
   "metadata": {},
   "outputs": [],
   "source": [
    "import datetime\n",
    "import time\n",
    "import csv\n",
    "import pandas as pd\n",
    "import re\n",
    "#maybe don't need stuff\n",
    "import numpy as np"
   ]
  },
  {
   "cell_type": "markdown",
   "id": "2758c76a-d041-4105-b6f6-96ac83100820",
   "metadata": {},
   "source": [
    "Setting Up Stuff (IDK)"
   ]
  },
  {
   "cell_type": "code",
   "execution_count": null,
   "id": "abab3e8f-6523-4431-a4b9-9dc9f985717e",
   "metadata": {},
   "outputs": [],
   "source": [
    "#Don't Need actually\n",
    "#Cache = {}"
   ]
  },
  {
   "cell_type": "markdown",
   "id": "28a17d4f-c44f-437f-8b6d-fea822ef82d9",
   "metadata": {},
   "source": [
    "## Definitely Going to be in the Final"
   ]
  },
  {
   "cell_type": "code",
   "execution_count": null,
   "id": "26de1f26-a7b9-4350-95b8-f28a5ec0a7ac",
   "metadata": {},
   "outputs": [],
   "source": []
  }
 ],
 "metadata": {
  "kernelspec": {
   "display_name": "Python 3 (ipykernel)",
   "language": "python",
   "name": "python3"
  },
  "language_info": {
   "codemirror_mode": {
    "name": "ipython",
    "version": 3
   },
   "file_extension": ".py",
   "mimetype": "text/x-python",
   "name": "python",
   "nbconvert_exporter": "python",
   "pygments_lexer": "ipython3",
   "version": "3.13.0"
  }
 },
 "nbformat": 4,
 "nbformat_minor": 5
}
