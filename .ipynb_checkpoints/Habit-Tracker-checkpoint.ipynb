{
 "cells": [
  {
   "cell_type": "markdown",
   "id": "d47d42c3-6921-49f9-9d17-02f7dce47951",
   "metadata": {},
   "source": [
    "Importing things"
   ]
  },
  {
   "cell_type": "code",
   "execution_count": 3,
   "id": "fb66585d-42ed-4c9f-a10c-eb9b6a52e381",
   "metadata": {},
   "outputs": [],
   "source": [
    "import datetime\n",
    "import time\n",
    "import csv\n",
    "import pandas as pd\n",
    "import re\n",
    "import numpy as np"
   ]
  },
  {
   "cell_type": "markdown",
   "id": "2758c76a-d041-4105-b6f6-96ac83100820",
   "metadata": {},
   "source": [
    "Setting Up "
   ]
  },
  {
   "cell_type": "code",
   "execution_count": 1,
   "id": "abab3e8f-6523-4431-a4b9-9dc9f985717e",
   "metadata": {},
   "outputs": [],
   "source": [
    "cache = {}"
   ]
  },
  {
   "cell_type": "markdown",
   "id": "575ccb4b-a387-45f6-8bc8-0b83db4af6fe",
   "metadata": {
    "jp-MarkdownHeadingCollapsed": true
   },
   "source": [
    "#### Create CSV for Habits - Habits.csv\n",
    "    HabitName\n",
    "    Time\n",
    "    Before\n",
    "    After"
   ]
  },
  {
   "cell_type": "code",
   "execution_count": null,
   "id": "bed6eaa2-3472-4eae-a3bf-9f3b78b8d872",
   "metadata": {},
   "outputs": [],
   "source": [
    "try:\n",
    "    df = pd.read_csv(\"Habits.csv\")\n",
    "except FileNotFoundError:\n",
    "    with open(\"Habits.csv\",\"w\") as HabitFile:\n",
    "        csv_writer = csv.writer(HabitFile, delimiter=',', quotechar='\"', quoting=csv.QUOTE_MINIMAL)\n",
    "        csv_writer.writerow(['HabitName' , 'Time' , 'Before' , 'After'])\n",
    "    HabitFile.close()"
   ]
  },
  {
   "cell_type": "markdown",
   "id": "8859f4b1-4095-4a44-b7cd-28593ab83572",
   "metadata": {
    "jp-MarkdownHeadingCollapsed": true
   },
   "source": [
    "#### CSV for Habit Stats - HabitStats.csv\n",
    "    Habit Name\n",
    "    Created Date\n",
    "    Edited Date\n",
    "    Total Dids\n",
    "    Total Did Nots\n",
    "    Streak : Total Dids since last did not"
   ]
  },
  {
   "cell_type": "code",
   "execution_count": null,
   "id": "1a51c81f-8966-4192-807c-4356bcc24305",
   "metadata": {},
   "outputs": [],
   "source": [
    "try:\n",
    "    df = pd.read_csv(\"HabitStats.csv\")\n",
    "except FileNotFoundError:\n",
    "    with open(\"HabitStats.csv\",\"w\") as HabitFile:\n",
    "        csv_writer = csv.writer(HabitFile, delimiter=',', quotechar='\"', quoting=csv.QUOTE_MINIMAL)\n",
    "        csv_writer.writerow(['HabitName' , 'Created Date' , 'Edited Date' , 'Total Dids' , 'Total Misses' , 'Streak'])\n",
    "    HabitFile.close()"
   ]
  },
  {
   "cell_type": "markdown",
   "id": "b48bdefe-4642-4d0f-8986-19251c9b3796",
   "metadata": {},
   "source": [
    "### CSV for Logs - HabitLog.csv\n",
    "    Date\n",
    "    Habit1\n",
    "    Habit2\n",
    "    Habit3\n",
    "    ect\n",
    "\n"
   ]
  },
  {
   "cell_type": "raw",
   "id": "ac22c2d5-6be9-4364-9ec1-58f00644b23b",
   "metadata": {},
   "source": [
    "to be made soon"
   ]
  },
  {
   "cell_type": "markdown",
   "id": "22c15df4-5713-4e0b-ae6e-6e62e557b236",
   "metadata": {
    "jp-MarkdownHeadingCollapsed": true
   },
   "source": [
    "### New Habit details --> Dict (Cache)"
   ]
  },
  {
   "cell_type": "raw",
   "id": "1833e63e-dccc-4068-a404-d411b9902eb0",
   "metadata": {},
   "source": [
    "addHabit() Gets input stores it temporarily\n",
    "addHabit Needs\n",
    "    cache = {}\n",
    "    datetime\n",
    "\n",
    "suggestion: rename to CreateHabit()\n",
    "\n",
    "TODO\n",
    "    formatting of input questions \n",
    "    output - display habit"
   ]
  },
  {
   "cell_type": "code",
   "execution_count": 2,
   "id": "b30818bf-35c8-4a88-9573-51228b48b1ac",
   "metadata": {},
   "outputs": [],
   "source": [
    "def ConvTime(timeI):\n",
    "    pattern = r\"[^\\d?\\d?]\"\n",
    "    Result = re.split(pattern, timeI)\n",
    "\n",
    "    Result = map(int, Result)\n",
    "    H,M = Result\n",
    "\n",
    "    #Check if time is in correcct fromat\n",
    "    if H > 23 or H< 0: \n",
    "        raise ValueError(\"Hour must be between 00-23\")\n",
    "    if M >60 or M < 0:\n",
    "        raise ValueError(\"Minuite must be between 00-60\")\n",
    "\n",
    "    #Convert to a standard time format\n",
    "    timeO = datetime.time(hour=H, minute=M)\n",
    "    \n",
    "    return timeO"
   ]
  },
  {
   "cell_type": "code",
   "execution_count": null,
   "id": "45b250ec-7da6-41e3-97cf-41391434b03d",
   "metadata": {},
   "outputs": [],
   "source": [
    "def addHabit():\n",
    "    #List of current habits\n",
    "    HabitFile = pd.read_csv(\"Habit.csv\")\n",
    "    Habits = list(x for x in HabitFile[\"HabitName\"])\n",
    "    \n",
    "    #Habit Name\n",
    "    HabitName = input(\"I want to ex: Brush teeth...\").lower()\n",
    "    #Check if same habit exists\n",
    "    if HabitName in Habits\n",
    "        raise: Exception('Habit Already Exists')\n",
    "    \n",
    "    #Habit details\n",
    "    Time = input(\"at in 24hr format - ex:05:00\")\n",
    "    #Get them to relevent format\n",
    "    Time = ConvTime(Time)\n",
    "    \n",
    "    Before = input(\"before\").lower()\n",
    "    After = input(\"after\").lower()\n",
    "    Create_Date = datetime.datetime.now().strftime(\"%x\")\n",
    "    Edit_Date = datetime.datetime.now().strftime(\"%x\")\n",
    "\n",
    "\n",
    "    #Temporary Storage\n",
    "    AddHabit = HabitName : {\n",
    "        \"Time\" : Time,\n",
    "        \"Before\": Before,\n",
    "        \"After\" : After,\n",
    "        \"Created Date\" : Create_Date,\n",
    "        \"Edited Date\" : Edit_Date,\n",
    "        \"Did\":0,\n",
    "        \"Total Dids\":0,\n",
    "        \"Total Misses\":0,\n",
    "        \"Streak\":0\n",
    "    }\n",
    "\n",
    "    cache.update(AddHabit)\n",
    "    #AddToHabitFile(HabitName) --- maybe call at a different time i.e after checking confirm or delete -- requires more work\n",
    "    #AddToStatFile(HabitName)"
   ]
  },
  {
   "cell_type": "markdown",
   "id": "cfae80e9-efba-41bb-8a33-b716a3303dfa",
   "metadata": {
    "jp-MarkdownHeadingCollapsed": true
   },
   "source": [
    "### Dict(Cache) --> Habits.csv file"
   ]
  },
  {
   "cell_type": "raw",
   "id": "e0d4aed2-33d4-4104-bc93-b6629ed6be43",
   "metadata": {},
   "source": [
    "AddToFile needs\n",
    "    csv module\n",
    "    Habits.csv file\n",
    "    HabitName argument should also have dict of same name in the cache"
   ]
  },
  {
   "cell_type": "code",
   "execution_count": null,
   "id": "4f70aea7-6fef-4dfa-9b02-81603a762b8f",
   "metadata": {},
   "outputs": [],
   "source": [
    "def AddToHabitFile(HabitName):\n",
    "    try:\n",
    "        NewHabitDet = {\"HabitName\":HabitName , \"Time\": cache[HabitName][\"Time\"] ,\"Before\":cache[HabitName][\"Before\"] , \"After\":cache[HabitName][\"After\"]}\n",
    "        with open(\"Habits.csv\",\"a\",newline='') as HabitsFile:\n",
    "            csv_Dwriter = csv.DictWriter(HabitsFile, fieldnames = ['HabitName' , 'Time' , 'Before' , 'After'])\n",
    "            csv_Dwriter.writerow(NewHabitDet)\n",
    "        HabitsFile.close()\n",
    "    except KeyError:\n",
    "        print(f\"Something went wrong habit -{HabitName}- hasn't been created\")\n",
    "        #either go to menu or add habit"
   ]
  },
  {
   "cell_type": "markdown",
   "id": "752798c3-198c-4ae4-a4a2-0645945d49cb",
   "metadata": {
    "jp-MarkdownHeadingCollapsed": true
   },
   "source": [
    "### Dict(Cache) --> HabitStats.csv"
   ]
  },
  {
   "cell_type": "code",
   "execution_count": null,
   "id": "c085c594-5b49-4f0c-82a8-436256e3d765",
   "metadata": {},
   "outputs": [],
   "source": [
    "def AddToStatFile(HabitName):\n",
    "    try:\n",
    "        NewHabitStatDet = {\"HabitName\":HabitName , \"Created Date\":cache[\"HabitName\"][\"Created Date\"] , \"Edited Date\":cache[\"HabitName\"][\"Edited Date\"] , \"Total Dids\":cache[\"HabitName\"][\"Total Dids\"] , \"Total Misses\":cache[\"HabitName\"][\"Total Misses\"] , \"Streak\":cache[\"HabitName\"][\"Streak\"]}\n",
    "        with open(\"HabitStats.csv\",\"a\",newline='') as HabitStatFile:\n",
    "            csv_Dwriter = csv.DictWriter(HabitStatFile, fieldnames = [\"HabitName\" , \"Created Date\" , \"Edited Date\" , \"Total Dids\" , \"Total Misses\" , \"Streak\"])\n",
    "            csv_Dwriter.writerow(NewHabitStatDet)\n",
    "        HabitsFile.close()\n",
    "    except KeyError:\n",
    "        print(f\"Something went wrong habit -{HabitName}- hasn't been created\")\n",
    "        #either go to menu or add habit"
   ]
  }
 ],
 "metadata": {
  "kernelspec": {
   "display_name": "Python 3 (ipykernel)",
   "language": "python",
   "name": "python3"
  },
  "language_info": {
   "codemirror_mode": {
    "name": "ipython",
    "version": 3
   },
   "file_extension": ".py",
   "mimetype": "text/x-python",
   "name": "python",
   "nbconvert_exporter": "python",
   "pygments_lexer": "ipython3",
   "version": "3.13.0"
  }
 },
 "nbformat": 4,
 "nbformat_minor": 5
}
